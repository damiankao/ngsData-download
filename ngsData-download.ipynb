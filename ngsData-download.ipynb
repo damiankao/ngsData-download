{
 "metadata": {
  "name": "",
  "signature": "sha256:f3dca7167cc04a26456091f50358163032464708fb6fcb20e7141c1c982835d0"
 },
 "nbformat": 3,
 "nbformat_minor": 0,
 "worksheets": [
  {
   "cells": [
    {
     "cell_type": "markdown",
     "metadata": {},
     "source": [
      "## Downloading raw data from NCBI SRA\n",
      "Aspera connect was used to download entire studies from SRA. Example:\n",
      "\n",
      "`~/.aspera/connect/bin/ascp -QT -l 1000m -i ~/.aspera/connect/etc/asperaweb_id_dsa.putty -T -k1 -r anonftp@ftp-trace.ncbi.nlm.nih.gov:/sra/sra-instant/reads/ByStudy/sra/ERP/ERP000/ERP000581 .`\n",
      "\n",
      "The resulting files are `.sra` files which needs to be converted to `.fastq` using `sra-toolkit`:\n",
      "\n",
      "`ls *.sra | xargs fastq-dump -I --split-files --gzip`\n",
      "\n",
      "The meta data can be downloaded from NCBI using e-utils:"
     ]
    },
    {
     "cell_type": "code",
     "collapsed": false,
     "input": [
      "import sys,os,urllib2\n",
      "import xml.etree.ElementTree as ET\n",
      "\n",
      "#search for accession and get the NCBI uid, then download the xml entry for the uid\n",
      "def getID(ac):\n",
      "    searchCmd = 'http://eutils.ncbi.nlm.nih.gov/entrez/eutils/esearch.fcgi?db=sra&term='\n",
      "    fetchCmd = 'http://eutils.ncbi.nlm.nih.gov/entrez/eutils/efetch.fcgi?db=sra&id='\n",
      "    res = urllib2.urlopen(searchCmd + ac)\n",
      "    data = res.read()\n",
      "    root = ET.fromstring(data)\n",
      "    uid = [x.text for x in root.find('IdList').findall('Id')][0]\n",
      "    res = urllib2.urlopen(fetchCmd + uid)\n",
      "    data = res.read()\n",
      "    return data\n",
      "\n",
      "#get list of accessions from .sra files\n",
      "accs = [x.split('/')[-1].split('.')[0] for x in os.popen('find /home/share/ngsData/raw/data *.sra').read().strip().split('\\n') if x.split('.')[-1] == 'sra']\n",
      "\n",
      "#write a .xml file for each .sra file\n",
      "for acc in accs:\n",
      "    xmlData = getID(acc)\n",
      "    outFile = open(acc + '.xml','w')\n",
      "    outFile.write(xmlData)\n",
      "    outFile.close()\n",
      "    "
     ],
     "language": "python",
     "metadata": {},
     "outputs": [],
     "prompt_number": 68
    },
    {
     "cell_type": "code",
     "collapsed": false,
     "input": [],
     "language": "python",
     "metadata": {},
     "outputs": []
    }
   ],
   "metadata": {}
  }
 ]
}